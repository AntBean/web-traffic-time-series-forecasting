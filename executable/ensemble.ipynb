{
 "cells": [
  {
   "cell_type": "markdown",
   "metadata": {},
   "source": [
    "### setup"
   ]
  },
  {
   "cell_type": "code",
   "execution_count": 1,
   "metadata": {
    "ExecuteTime": {
     "end_time": "2017-09-11T06:58:58.144440Z",
     "start_time": "2017-09-11T06:58:57.968637Z"
    }
   },
   "outputs": [],
   "source": [
    "import argparse\n",
    "import pickle\n",
    "\n",
    "import numpy as np; np.seterr(invalid='ignore')\n",
    "import pandas as pd"
   ]
  },
  {
   "cell_type": "code",
   "execution_count": 2,
   "metadata": {
    "ExecuteTime": {
     "end_time": "2017-09-11T06:58:58.877942Z",
     "start_time": "2017-09-11T06:58:58.872749Z"
    },
    "collapsed": true
   },
   "outputs": [],
   "source": [
    "parser = {\n",
    "    'offset': 719,\n",
    "    'test_len': 74,\n",
    "    'seed': 20170911,\n",
    "    'forecast_start': '2017-09-13',\n",
    "    'forecast_end': '2017-11-13'\n",
    "}\n",
    "args = argparse.Namespace(**parser)"
   ]
  },
  {
   "cell_type": "code",
   "execution_count": 3,
   "metadata": {
    "ExecuteTime": {
     "end_time": "2017-09-11T06:59:00.147926Z",
     "start_time": "2017-09-11T06:59:00.141888Z"
    },
    "collapsed": true
   },
   "outputs": [],
   "source": [
    "def smape(y_pred, y_true):\n",
    "    y_pred = np.around(y_pred)\n",
    "    denominator = y_true + y_pred\n",
    "    diff = np.abs(y_true - y_pred) / denominator\n",
    "    diff[denominator == 0] = 0\n",
    "    return 200 * np.nanmean(diff)"
   ]
  },
  {
   "cell_type": "code",
   "execution_count": 7,
   "metadata": {
    "ExecuteTime": {
     "end_time": "2017-09-11T06:59:22.071833Z",
     "start_time": "2017-09-11T06:59:22.067234Z"
    },
    "collapsed": true
   },
   "outputs": [],
   "source": [
    "def ensemble(pred_fib, pred_rnn, y_true):\n",
    "    for i in range(0, 11):\n",
    "        y_pred = (pred_fib * i + pred_rnn * (10 - i)) / 10\n",
    "        print(\"{} fib + {} rnn = {}\".format(i, 10-i, smape(y_pred, y_true)))"
   ]
  },
  {
   "cell_type": "code",
   "execution_count": 5,
   "metadata": {
    "ExecuteTime": {
     "end_time": "2017-09-11T06:59:14.659105Z",
     "start_time": "2017-09-11T06:59:04.399586Z"
    },
    "collapsed": true
   },
   "outputs": [],
   "source": [
    "full = pd.read_csv('../data/wttsf/train_2.csv', index_col='Page')\n",
    "full = full.fillna(method='ffill', axis=1).fillna(method='bfill', axis=1)\n",
    "# y_true = full.iloc[:, args.offset+1:args.offset+args.test_len+1].values\n",
    "y_true = full.iloc[:, -args.test_len:].values"
   ]
  },
  {
   "cell_type": "code",
   "execution_count": 8,
   "metadata": {
    "ExecuteTime": {
     "end_time": "2017-09-11T06:59:25.907322Z",
     "start_time": "2017-09-11T06:59:23.920245Z"
    }
   },
   "outputs": [
    {
     "name": "stdout",
     "output_type": "stream",
     "text": [
      "0 fib + 10 rnn = 39.4374950183925\n",
      "1 fib + 9 rnn = 38.80314519122691\n",
      "2 fib + 8 rnn = 38.23295856681723\n",
      "3 fib + 7 rnn = 37.7258948138124\n",
      "4 fib + 6 rnn = 37.28949248787397\n",
      "5 fib + 5 rnn = 36.90672912531349\n",
      "6 fib + 4 rnn = 36.58127483621137\n",
      "7 fib + 3 rnn = 36.316640569837745\n",
      "8 fib + 2 rnn = 36.10334789156942\n",
      "9 fib + 1 rnn = 35.946316727101326\n",
      "10 fib + 0 rnn = 35.86728094201145\n"
     ]
    }
   ],
   "source": [
    "with open(\"../intermediate/{}/pred_fib.pkl\".format(args.seed), \"rb\") as f:\n",
    "    pred_fib = pickle.load(f)\n",
    "with open(\"../intermediate/{}/pred_rnn.pkl\".format(args.seed), \"rb\") as f:\n",
    "    pred_rnn = pickle.load(f)\n",
    "    \n",
    "ensemble(pred_fib, pred_rnn, y_true)"
   ]
  },
  {
   "cell_type": "code",
   "execution_count": 15,
   "metadata": {
    "ExecuteTime": {
     "end_time": "2017-09-11T07:03:59.726265Z",
     "start_time": "2017-09-11T07:03:32.833062Z"
    }
   },
   "outputs": [],
   "source": [
    "key_df = pd.read_csv('../data/wttsf/key_2.csv')\n",
    "key_df['Date'] = key_df['Page'].apply(lambda a: a[-10:])\n",
    "key_df['Page'] = key_df['Page'].apply(lambda a: a[:-11])\n",
    "\n",
    "future_start = (pd.Timestamp(args.forecast_start)\n",
    "                - pd.Timestamp(full.columns[-1])).days - 1\n",
    "future_end = (pd.Timestamp(args.forecast_end)\n",
    "              - pd.Timestamp(full.columns[-1])).days\n",
    "future_period = future_end - future_start\n",
    "\n",
    "prediction = (pred_rnn + pred_fib) / 2\n",
    "\n",
    "visits = np.zeros(key_df.shape[0])\n",
    "for i in range(0, len(visits), future_period):\n",
    "    page = key_df['Page'][i]\n",
    "    page_index = full.index.get_loc(page)\n",
    "    visits[i:(i+future_period)] = prediction[page_index,\n",
    "                                             future_start:future_end]"
   ]
  },
  {
   "cell_type": "code",
   "execution_count": 21,
   "metadata": {
    "ExecuteTime": {
     "end_time": "2017-09-11T07:08:33.247321Z",
     "start_time": "2017-09-11T07:08:22.878354Z"
    },
    "collapsed": true
   },
   "outputs": [],
   "source": [
    "key_df['Visits'] = np.around(visits)\n",
    "key_df[['Id', 'Visits']].to_csv(\n",
    "    '../intermediate/{}/submission.csv'.format(args.seed), index=False)"
   ]
  }
 ],
 "metadata": {
  "kernelspec": {
   "display_name": "Python (pydata)",
   "language": "python",
   "name": "pydata"
  },
  "language_info": {
   "codemirror_mode": {
    "name": "ipython",
    "version": 3
   },
   "file_extension": ".py",
   "mimetype": "text/x-python",
   "name": "python",
   "nbconvert_exporter": "python",
   "pygments_lexer": "ipython3",
   "version": "3.5.4"
  }
 },
 "nbformat": 4,
 "nbformat_minor": 2
}
