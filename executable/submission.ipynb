{
 "cells": [
  {
   "cell_type": "code",
   "execution_count": 1,
   "metadata": {
    "ExecuteTime": {
     "end_time": "2017-08-27T15:31:00.262294Z",
     "start_time": "2017-08-28T00:30:59.832128+09:00"
    },
    "collapsed": true
   },
   "outputs": [],
   "source": [
    "import os\n",
    "import pickle\n",
    "\n",
    "import pandas as pd"
   ]
  },
  {
   "cell_type": "code",
   "execution_count": 2,
   "metadata": {
    "ExecuteTime": {
     "end_time": "2017-08-27T15:31:03.084936Z",
     "start_time": "2017-08-28T00:31:03.081727+09:00"
    },
    "collapsed": true
   },
   "outputs": [],
   "source": [
    "seed = 28082017"
   ]
  },
  {
   "cell_type": "code",
   "execution_count": null,
   "metadata": {
    "collapsed": true
   },
   "outputs": [],
   "source": [
    "prediction_file = os.path.join('../intermediate/prediction_seed{}.pkl'\n",
    "                               .format(seed))\n",
    "\n",
    "with open(prediction_file, 'rb') as f:\n",
    "    prediction = pickle.load(f)"
   ]
  },
  {
   "cell_type": "code",
   "execution_count": null,
   "metadata": {
    "collapsed": true
   },
   "outputs": [],
   "source": [
    "data_df = pd.read_csv('../data/train_1.csv', index_col='Page')\n",
    "key_df = pd.read_csv('../data/key_1.csv')\n",
    "key_df['Date'] = key_df['Page'].apply(lambda a: a[-10:])\n",
    "key_df['Page'] = key_df['Page'].apply(lambda a: a[:-11])"
   ]
  },
  {
   "cell_type": "code",
   "execution_count": null,
   "metadata": {
    "collapsed": true
   },
   "outputs": [],
   "source": [
    "future_start = (pd.Timestamp('2017-01-01') - pd.Timestamp('2017-01-01')).days\n",
    "future_end = (pd.Timestamp('2017-03-01') - pd.Timestamp('2017-01-01')).days\n",
    "future_period = future_end + 1 - future_start\n",
    "\n",
    "visits = np.zeros(key_df.shape[0])\n",
    "for i in range(0, len(visits), future_period):\n",
    "    page = key_df['Page'][i]\n",
    "    page_index = data_df.index.get_loc(page)\n",
    "    visits[i:(i+future_period)] = prediction[page_index,\n",
    "                                             future_start:(future_end+1)]\n",
    "\n",
    "key_df['Visits'] = visits\n",
    "submission_file = os.path.join('../intermediate/submission_{}.csv'\n",
    "                               .format(seed))\n",
    "key_df[['Id', 'Visits']].to_csv(submission_file, index=False)"
   ]
  }
 ],
 "metadata": {
  "kernelspec": {
   "display_name": "Python [conda env:pydata]",
   "language": "python",
   "name": "conda-env-pydata-py"
  },
  "language_info": {
   "codemirror_mode": {
    "name": "ipython",
    "version": 3
   },
   "file_extension": ".py",
   "mimetype": "text/x-python",
   "name": "python",
   "nbconvert_exporter": "python",
   "pygments_lexer": "ipython3",
   "version": "3.5.4"
  }
 },
 "nbformat": 4,
 "nbformat_minor": 2
}
