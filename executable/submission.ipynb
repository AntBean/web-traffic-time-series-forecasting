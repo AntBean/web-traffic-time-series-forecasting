{
 "cells": [
  {
   "cell_type": "code",
   "execution_count": 31,
   "metadata": {
    "ExecuteTime": {
     "end_time": "2017-09-01T00:26:58.617511Z",
     "start_time": "2017-09-01T09:26:58.612907+09:00"
    },
    "collapsed": true,
    "deletable": true,
    "editable": true
   },
   "outputs": [],
   "source": [
    "import os\n",
    "import pickle\n",
    "\n",
    "import numpy as np\n",
    "import pandas as pd"
   ]
  },
  {
   "cell_type": "code",
   "execution_count": 32,
   "metadata": {
    "ExecuteTime": {
     "end_time": "2017-09-01T00:26:59.943584Z",
     "start_time": "2017-09-01T09:26:59.940485+09:00"
    },
    "collapsed": true,
    "deletable": true,
    "editable": true
   },
   "outputs": [],
   "source": [
    "seed = 20170901"
   ]
  },
  {
   "cell_type": "code",
   "execution_count": 33,
   "metadata": {
    "ExecuteTime": {
     "end_time": "2017-09-01T00:27:01.554237Z",
     "start_time": "2017-09-01T09:27:00.837675+09:00"
    },
    "collapsed": false,
    "deletable": true,
    "editable": true
   },
   "outputs": [],
   "source": [
    "prediction_file = os.path.join('../intermediate/{}/prediction_seed{}.pkl'\n",
    "                               .format(seed, seed))\n",
    "\n",
    "with open(prediction_file, 'rb') as f:\n",
    "    prediction = pickle.load(f)"
   ]
  },
  {
   "cell_type": "code",
   "execution_count": 17,
   "metadata": {
    "ExecuteTime": {
     "end_time": "2017-08-29T04:46:16.582828Z",
     "start_time": "2017-08-29T13:44:57.687978+09:00"
    },
    "collapsed": false,
    "deletable": true,
    "editable": true
   },
   "outputs": [],
   "source": [
    "data_df = pd.read_csv('../data/wttsf/train_1.csv', index_col='Page')\n",
    "key_df = pd.read_csv('../data/wttsf/key_1.csv')\n",
    "key_df['Date'] = key_df['Page'].apply(lambda a: a[-10:])\n",
    "key_df['Page'] = key_df['Page'].apply(lambda a: a[:-11])"
   ]
  },
  {
   "cell_type": "code",
   "execution_count": 34,
   "metadata": {
    "ExecuteTime": {
     "end_time": "2017-09-01T00:27:53.392886Z",
     "start_time": "2017-09-01T09:27:11.266216+09:00"
    },
    "collapsed": false,
    "deletable": true,
    "editable": true
   },
   "outputs": [],
   "source": [
    "future_start = (pd.Timestamp('2017-01-01') - pd.Timestamp('2017-01-01')).days\n",
    "future_end = (pd.Timestamp('2017-03-01') - pd.Timestamp('2017-01-01')).days\n",
    "future_period = future_end + 1 - future_start\n",
    "\n",
    "visits = np.zeros(key_df.shape[0])\n",
    "for i in range(0, len(visits), future_period):\n",
    "    page = key_df['Page'][i]\n",
    "    page_index = data_df.index.get_loc(page)\n",
    "    visits[i:(i+future_period)] = prediction[page_index,\n",
    "                                             future_start:(future_end+1)]\n",
    "\n",
    "key_df['Visits'] = visits\n",
    "submission_file = os.path.join('../intermediate/{}/submission_{}.csv'\n",
    "                               .format(seed, seed))\n",
    "key_df[['Id', 'Visits']].to_csv(submission_file, float_format='%.0f',\n",
    "                                index=False)"
   ]
  },
  {
   "cell_type": "code",
   "execution_count": null,
   "metadata": {
    "collapsed": true,
    "deletable": true,
    "editable": true
   },
   "outputs": [],
   "source": []
  }
 ],
 "metadata": {
  "kernelspec": {
   "display_name": "Python [conda env:pydata]",
   "language": "python",
   "name": "conda-env-pydata-py"
  },
  "language_info": {
   "codemirror_mode": {
    "name": "ipython",
    "version": 3
   },
   "file_extension": ".py",
   "mimetype": "text/x-python",
   "name": "python",
   "nbconvert_exporter": "python",
   "pygments_lexer": "ipython3",
   "version": "3.5.4"
  }
 },
 "nbformat": 4,
 "nbformat_minor": 2
}
